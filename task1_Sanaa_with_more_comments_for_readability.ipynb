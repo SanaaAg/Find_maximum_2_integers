{
 "cells": [
  {
   "cell_type": "code",
   "execution_count": 54,
   "id": "4f4bd80c-a884-45de-9047-a30ab030abc5",
   "metadata": {},
   "outputs": [
    {
     "name": "stderr",
     "output_type": "stream",
     "text": [
      "ibmqfactory.load_account:WARNING:2023-03-12 07:08:32,615: Credentials are already in use. The existing account in the session will be replaced.\n"
     ]
    }
   ],
   "source": [
    "import numpy as np\n",
    "\n",
    "# Importing standard Qiskit libraries\n",
    "from qiskit import QuantumCircuit, transpile, Aer, IBMQ\n",
    "from qiskit.tools.jupyter import *\n",
    "from qiskit.visualization import *\n",
    "from ibm_quantum_widgets import *\n",
    "from qiskit.providers.aer import QasmSimulator\n",
    "from qiskit import Aer, assemble\n",
    "from qiskit import ClassicalRegister, QuantumRegister\n",
    "from qiskit.providers.ibmq import least_busy\n",
    "\n",
    "# import library for manipulating dictionary in python\n",
    "import collections\n",
    "\n",
    "# Loading your IBM Quantum account(s)\n",
    "provider = IBMQ.load_account()"
   ]
  },
  {
   "cell_type": "code",
   "execution_count": 55,
   "id": "45de6c3a-25f4-4250-960c-ffed8f185adf",
   "metadata": {},
   "outputs": [],
   "source": [
    "# function to apply Hadamard gates to chosen qubits in a circuit qc\n",
    "\n",
    "def initialize_s(qc, qubits):\n",
    "    \"\"\"Apply a H-gate to 'qubits' in qc\"\"\"\n",
    "    for q in qubits:\n",
    "        qc.h(q)\n",
    "    return qc\n",
    "\n",
    "\n",
    "# function to apply Oracle that returns circuit qc with phase (-1) applied to the solution state only\n",
    "\n",
    "def f_oracle(dset, qc):\n",
    "    \n",
    "    # we use qubits 0, 1 to encode states corresponding to different solutions: |01> if number_1 > number_2, and |10> if number_1 < number_2\n",
    "    \n",
    "    # qubit 2 is the ancilla, which will be left unchanged, in state |0>\n",
    "    \n",
    "    f_arr = np.zeros(4) # function that determines the phase to be added to the states |00>, |01>, |10>, |11> depending on the maximum; f(x) = 1 for x = solution, otherwise f(x) = 0\n",
    "    ind = 0\n",
    "    for i in range(0, 2):\n",
    "        for j in range(0, 2):\n",
    "            temp = dset[i]-dset[j]\n",
    "\n",
    "            if temp == 0:\n",
    "                val = 0\n",
    "            else:\n",
    "                val = np.floor((temp/np.abs(temp) + 1)/2)\n",
    "            f_arr[ind] = val\n",
    "            ind += 1\n",
    "            \n",
    "    if f_arr[0] == 1: # if |00> is solution state\n",
    "        qc.x(0)\n",
    "        qc.x(1)\n",
    "    elif f_arr[1] == 1: # if |01> is solution state\n",
    "        qc.x(0)\n",
    "    elif f_arr[2] == 1: # if |10> is solution state\n",
    "        qc.x(1)\n",
    "        \n",
    "    qc.ccx(0,1,2)\n",
    "    qc.z(2) \n",
    "    qc.ccx(0,1,2) \n",
    "    \n",
    "    if f_arr[0] == 1:\n",
    "        qc.x(0)\n",
    "        qc.x(1)\n",
    "    elif f_arr[1] == 1:\n",
    "        qc.x(0)\n",
    "    elif f_arr[2] == 1:\n",
    "        qc.x(1)\n",
    "\n",
    "        \n",
    "    return qc\n",
    "\n"
   ]
  },
  {
   "cell_type": "code",
   "execution_count": 58,
   "id": "40045aba-c77f-42af-a223-9fb32e29a3a3",
   "metadata": {},
   "outputs": [],
   "source": [
    "def find_the_largest_number(number_1, number_2):\n",
    "    \n",
    "    # quantum circuit of 3 qubits\n",
    "    \n",
    "    n = 3\n",
    "    qc = QuantumCircuit(n)\n",
    "    \n",
    "    # apply H to qubits 0, 1\n",
    "    \n",
    "    qc = initialize_s(qc, [0,1])\n",
    "    \n",
    "    # make a list from the two numbers\n",
    "    \n",
    "    dset = [number_1, number_2]\n",
    "    \n",
    "    # apply oracle: marks the solution state with a phase (-1)\n",
    "    \n",
    "    qc = f_oracle(dset, qc)\n",
    "    \n",
    "    # apply H to qubits 0, 1\n",
    "    \n",
    "    qc = initialize_s(qc, [0,1])\n",
    "    \n",
    "    \n",
    "    # mark the |00> state with a phase (-1)\n",
    "\n",
    "    qc.x(0)\n",
    "    qc.x(1)\n",
    "\n",
    "    qc.ccx(0,1,2) \n",
    "    qc.z(2) \n",
    "    qc.ccx(0,1,2) \n",
    "\n",
    "    qc.x(0)\n",
    "    qc.x(1)\n",
    "    \n",
    "    # apply H to qubits 0, 1\n",
    "\n",
    "    qc = initialize_s(qc, [0,1])\n",
    "    \n",
    "    # measure all qubits to get final state\n",
    "    \n",
    "    qc.measure_all()\n",
    "    \n",
    "    # qc.draw() # optional, can be used to draw quantum circuit if desired\n",
    "    \n",
    "    \n",
    "    # get probability (counts) of measuring a state using a backend simulator\n",
    "    \n",
    "    aer_sim = Aer.get_backend('aer_simulator')\n",
    "    qobj = assemble(qc)\n",
    "    result = aer_sim.run(qobj).result()\n",
    "    counts = result.get_counts()\n",
    "\n",
    "    counts = collections.defaultdict(lambda : 0, counts) \n",
    "    \n",
    "    # the state for which counts are the greatest points to the solution\n",
    "    \n",
    "    if counts['010'] > 0:\n",
    "        return [dset[0], qc]\n",
    "    else:  # since the only other solution state is '100', counts must be non-zero for it\n",
    "        return [dset[1], qc]"
   ]
  },
  {
   "cell_type": "code",
   "execution_count": 60,
   "id": "251c5c2f-5d39-47b9-a13d-47a62c15c1d5",
   "metadata": {},
   "outputs": [
    {
     "data": {
      "text/plain": [
       "0.5"
      ]
     },
     "execution_count": 60,
     "metadata": {},
     "output_type": "execute_result"
    }
   ],
   "source": [
    "# test code for any two numbers (not just integers) as the code does not depend on the type of number used (integer, rational, irrational)\n",
    "\n",
    "find_the_largest_number(0.5,-463)[0]"
   ]
  },
  {
   "cell_type": "code",
   "execution_count": 61,
   "id": "a67171f1-c71d-4ffe-bd43-3e9ee1dc8f24",
   "metadata": {},
   "outputs": [
    {
     "data": {
      "image/png": "[encoded data removed]",
      "text/plain": [
       "<Figure size 1140.28x264.88 with 1 Axes>"
      ]
     },
     "execution_count": 61,
     "metadata": {},
     "output_type": "execute_result"
    }
   ],
   "source": [
    "find_the_largest_number(0.5,-463)[1].draw()"
   ]
  },
  {
   "cell_type": "code",
   "execution_count": null,
   "id": "d7914499-63dd-452c-aa62-5a60c5e49bec",
   "metadata": {},
   "outputs": [],
   "source": []
  }
 ],
 "metadata": {
  "kernelspec": {
   "display_name": "Python 3 (ipykernel)",
   "language": "python",
   "name": "python3"
  },
  "language_info": {
   "codemirror_mode": {
    "name": "ipython",
    "version": 3
   },
   "file_extension": ".py",
   "mimetype": "text/x-python",
   "name": "python",
   "nbconvert_exporter": "python",
   "pygments_lexer": "ipython3",
   "version": "3.8.15"
  },
  "widgets": {
   "application/vnd.jupyter.widget-state+json": {
    "state": {
     "02d102a1235243949c7877e604353138": {
      "model_module": "@jupyter-widgets/base",
      "model_module_version": "1.2.0",
      "model_name": "LayoutModel",
      "state": {
       "grid_template_areas": "\n                                       \". . . . right \"\n                                        ",
       "grid_template_columns": "20% 20% 20% 20% 20%",
       "width": "100%"
      }
     },
     "1dfd46c3976d4389a90a447b20514b1e": {
      "model_module": "@jupyter-widgets/controls",
      "model_module_version": "1.5.0",
      "model_name": "DescriptionStyleModel",
      "state": {
       "description_width": ""
      }
     },
     "300771888950474e9efc01eafc437274": {
      "model_module": "@jupyter-widgets/base",
      "model_module_version": "1.2.0",
      "model_name": "LayoutModel",
      "state": {
       "width": "95px"
      }
     },
     "30e3dcb70a8b4d7ba340db2dc684e03a": {
      "model_module": "@jupyter-widgets/base",
      "model_module_version": "1.2.0",
      "model_name": "LayoutModel",
      "state": {
       "margin": "0px 0px 10px 0px"
      }
     },
     "313c4aee98674223936f5a2f52705ca6": {
      "model_module": "@jupyter-widgets/base",
      "model_module_version": "1.2.0",
      "model_name": "LayoutModel",
      "state": {
       "width": "190px"
      }
     },
     "3c3fe378996d40f5bb19744576bd2325": {
      "model_module": "@jupyter-widgets/controls",
      "model_module_version": "1.5.0",
      "model_name": "DescriptionStyleModel",
      "state": {
       "description_width": ""
      }
     },
     "43b67e5c3ccf4161b7c930d343a56072": {
      "model_module": "@jupyter-widgets/controls",
      "model_module_version": "1.5.0",
      "model_name": "DescriptionStyleModel",
      "state": {
       "description_width": ""
      }
     },
     "6446c203c7994d78837dcf4cea35d7b1": {
      "model_module": "@jupyter-widgets/controls",
      "model_module_version": "1.5.0",
      "model_name": "ButtonStyleModel",
      "state": {}
     },
     "720e0fae61464713a4211ecd98365a74": {
      "model_module": "@jupyter-widgets/controls",
      "model_module_version": "1.5.0",
      "model_name": "HTMLModel",
      "state": {
       "layout": "IPY_MODEL_75445957a1894d009c29cfaeabe0acc5",
       "style": "IPY_MODEL_43b67e5c3ccf4161b7c930d343a56072",
       "value": "<h5>Message</h5>"
      }
     },
     "75445957a1894d009c29cfaeabe0acc5": {
      "model_module": "@jupyter-widgets/base",
      "model_module_version": "1.2.0",
      "model_name": "LayoutModel",
      "state": {}
     },
     "76d16ca946c646cd8b6148f459af7f62": {
      "model_module": "@jupyter-widgets/controls",
      "model_module_version": "1.5.0",
      "model_name": "DescriptionStyleModel",
      "state": {
       "description_width": ""
      }
     },
     "799cbcbb05004bfab0b730d995b54a6b": {
      "model_module": "@jupyter-widgets/controls",
      "model_module_version": "1.5.0",
      "model_name": "HTMLModel",
      "state": {
       "layout": "IPY_MODEL_bcab6d87da7b44cb87dae9219860cf08",
       "style": "IPY_MODEL_ad650b595fde460d86cba41d0848fa4b",
       "value": "<h5>Queue</h5>"
      }
     },
     "87c2d549a91b40ac92857c22773c04e1": {
      "model_module": "@jupyter-widgets/controls",
      "model_module_version": "1.5.0",
      "model_name": "DescriptionStyleModel",
      "state": {
       "description_width": ""
      }
     },
     "ac7e188500bc4cf293317c2c425c2992": {
      "model_module": "@jupyter-widgets/controls",
      "model_module_version": "1.5.0",
      "model_name": "HTMLModel",
      "state": {
       "layout": "IPY_MODEL_b0536825497d4bcc855393731ab161f2",
       "style": "IPY_MODEL_1dfd46c3976d4389a90a447b20514b1e",
       "value": "<h5>Backend</h5>"
      }
     },
     "ad650b595fde460d86cba41d0848fa4b": {
      "model_module": "@jupyter-widgets/controls",
      "model_module_version": "1.5.0",
      "model_name": "DescriptionStyleModel",
      "state": {
       "description_width": ""
      }
     },
     "b0006c2316274339841d0ea7629d0b8e": {
      "model_module": "@jupyter-widgets/controls",
      "model_module_version": "1.5.0",
      "model_name": "HTMLModel",
      "state": {
       "layout": "IPY_MODEL_30e3dcb70a8b4d7ba340db2dc684e03a",
       "style": "IPY_MODEL_76d16ca946c646cd8b6148f459af7f62",
       "value": "<p style='font-family: IBM Plex Sans, Arial, Helvetica, sans-serif; font-size: 20px; font-weight: medium;'>Circuit Properties</p>"
      }
     },
     "b0536825497d4bcc855393731ab161f2": {
      "model_module": "@jupyter-widgets/base",
      "model_module_version": "1.2.0",
      "model_name": "LayoutModel",
      "state": {
       "width": "145px"
      }
     },
     "b6a63e69b4b84352ae251644c7e4cfbb": {
      "model_module": "@jupyter-widgets/base",
      "model_module_version": "1.2.0",
      "model_name": "LayoutModel",
      "state": {
       "grid_area": "right",
       "padding": "0px 0px 0px 0px",
       "width": "70px"
      }
     },
     "bcab6d87da7b44cb87dae9219860cf08": {
      "model_module": "@jupyter-widgets/base",
      "model_module_version": "1.2.0",
      "model_name": "LayoutModel",
      "state": {
       "width": "70px"
      }
     },
     "c3c15894f9c64beb948db0133ae0370a": {
      "model_module": "@jupyter-widgets/controls",
      "model_module_version": "1.5.0",
      "model_name": "HTMLModel",
      "state": {
       "layout": "IPY_MODEL_313c4aee98674223936f5a2f52705ca6",
       "style": "IPY_MODEL_87c2d549a91b40ac92857c22773c04e1",
       "value": "<h5>Job ID</h5>"
      }
     },
     "c8311843eab542038a69f3fc2a2bf31b": {
      "model_module": "@jupyter-widgets/controls",
      "model_module_version": "1.5.0",
      "model_name": "GridBoxModel",
      "state": {
       "children": [
        "IPY_MODEL_edbf9f8e37a7464587ac75672775bc28"
       ],
       "layout": "IPY_MODEL_02d102a1235243949c7877e604353138"
      }
     },
     "c9bf63aa750b46ef9743059faaea81d8": {
      "model_module": "@jupyter-widgets/base",
      "model_module_version": "1.2.0",
      "model_name": "LayoutModel",
      "state": {
       "margin": "0px 0px 0px 37px",
       "width": "600px"
      }
     },
     "e25a6abe8dcf4cae8d7e4431733fda78": {
      "model_module": "@jupyter-widgets/controls",
      "model_module_version": "1.5.0",
      "model_name": "HBoxModel",
      "state": {
       "children": [
        "IPY_MODEL_c3c15894f9c64beb948db0133ae0370a",
        "IPY_MODEL_ac7e188500bc4cf293317c2c425c2992",
        "IPY_MODEL_fe090f1f93ec484898ae52754cadce2b",
        "IPY_MODEL_799cbcbb05004bfab0b730d995b54a6b",
        "IPY_MODEL_720e0fae61464713a4211ecd98365a74"
       ],
       "layout": "IPY_MODEL_c9bf63aa750b46ef9743059faaea81d8"
      }
     },
     "edbf9f8e37a7464587ac75672775bc28": {
      "model_module": "@jupyter-widgets/controls",
      "model_module_version": "1.5.0",
      "model_name": "ButtonModel",
      "state": {
       "button_style": "primary",
       "description": "Clear",
       "layout": "IPY_MODEL_b6a63e69b4b84352ae251644c7e4cfbb",
       "style": "IPY_MODEL_6446c203c7994d78837dcf4cea35d7b1"
      }
     },
     "fe090f1f93ec484898ae52754cadce2b": {
      "model_module": "@jupyter-widgets/controls",
      "model_module_version": "1.5.0",
      "model_name": "HTMLModel",
      "state": {
       "layout": "IPY_MODEL_300771888950474e9efc01eafc437274",
       "style": "IPY_MODEL_3c3fe378996d40f5bb19744576bd2325",
       "value": "<h5>Status</h5>"
      }
     }
    },
    "version_major": 2,
    "version_minor": 0
   }
  }
 },
 "nbformat": 4,
 "nbformat_minor": 5
}
